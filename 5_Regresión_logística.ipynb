{
  "nbformat": 4,
  "nbformat_minor": 0,
  "metadata": {
    "colab": {
      "provenance": [],
      "authorship_tag": "ABX9TyOBOowbkew6CO+FkLwhSnud",
      "include_colab_link": true
    },
    "kernelspec": {
      "name": "python3",
      "display_name": "Python 3"
    },
    "language_info": {
      "name": "python"
    }
  },
  "cells": [
    {
      "cell_type": "markdown",
      "metadata": {
        "id": "view-in-github",
        "colab_type": "text"
      },
      "source": [
        "<a href=\"https://colab.research.google.com/github/JhonnyLimachi/IA_en_Salud/blob/main/5_Regresi%C3%B3n_log%C3%ADstica.ipynb\" target=\"_parent\"><img src=\"https://colab.research.google.com/assets/colab-badge.svg\" alt=\"Open In Colab\"/></a>"
      ]
    },
    {
      "cell_type": "markdown",
      "source": [
        "<img alt=\"Colaboratory logo\" width=\"15%\" src=\"https://raw.githubusercontent.com/carlosfab/escola-data-science/master/img/novo_logo_bg_claro.png\">\n",
        "\n",
        "#### **Data Science na Prática 4.0**\n",
        "*by [sigmoidal.ai](https://sigmoidal.ai)*\n",
        "\n",
        "---"
      ],
      "metadata": {
        "id": "3MY1nSocZqM_"
      }
    },
    {
      "cell_type": "markdown",
      "source": [
        "# Regresión logística\n",
        "\n",
        "En el ejemplo de regresión lineal, queríamos inferir qué precio de venta poner a una casa, dado un conjunto de *características*. En otras palabras, queríamos predecir un valor continuo.\n",
        "\n",
        "En cambio, la regresión logística se utiliza para clasificar algo dentro de un conjunto de categorías. Como ejemplo, podemos tomar el *conjunto de datos* de pacientes con enfermedad cardiovascular utilizado en el módulo anterior.\n",
        "\n",
        "<p align=center><img src=\"https://1394217531-files.gitbook.io/~/files/v0/b/gitbook-legacy-files/o/assets%2F-LvBP1svpACTB1R1x_U4%2F-Lw70vAIGPfRR1AjprLi%2F-LwAVc1EdfmPMge5dlYC%2Fimage. png?alt=media&token=d72e3231-0d64-4bb7-9e4c-20577940763d\" width=\"60%\"></p>\n",
        "\n",
        "En la última línea, ¿cómo clasificaríamos al paciente como enfermo del corazón o no? La regresión lineal no es adecuada en este caso, ya que trabaja con valores continuos.\n",
        "\n",
        "La regresión logística es ideal en este tipo de situaciones de clasificación, ya que trabaja con probabilidades. En este caso, tras entrenar el modelo seríamos capaces de ver la probabilidad de que un determinado paciente tenga un problema cardíaco o no.\n",
        "\n",
        "<p align=center><img src=\"https://media5.datahacker.rs/2021/01/83.jpg\" width=\"50%\"></p>\n",
        "\n",
        "Piensa en la imagen anterior como si el eje x fuera la edad de un paciente y el eje y su probabilidad de tener una cardiopatía.\n",
        "\n",
        "Como puede ver, necesitamos asignar valores a un rango $[0,1]$. Para ello, utilizamos la función sigmoide,\n",
        "\n",
        "$$\n",
        "sigmoide(z) = \\frac{1}{1 + e^{-z}}\n",
        "$$\n",
        "\n",
        "donde $z= b + w_1x_1 + w_2x_2 + \\dots + w_mx_m$ es la *salida* de la capa lineal de un modelo de regresión logística. La curva **sigmoidal** mapeará este valor (cualquiera) al itnerval entre 0 y 1.\n",
        "\n",
        "Al igual que en la regresión lineal teníamos el error al cuadrado (*pérdida al cuadrado*), la *función de pérdida* para la regresión logística se representa mediante\n",
        "\n",
        "$$\n",
        "\\text{Log Loss} = \\sum_{(x, y) \\in D} -y\\log(\\hat{y}) - (1 -y)\\log(1-\\hat{y})\n",
        "$$\n",
        "\n"
      ],
      "metadata": {
        "id": "EU_S5cXmZjXO"
      }
    },
    {
      "cell_type": "markdown",
      "source": [
        "## Regresión Logística en `scikit-learn`\n",
        "\n",
        "El conjunto de datos original, que ha sido adaptado en este *notebook*, fue recogido de la ***Cleveland Clinic Foundation*** y está disponible en el conocido [UCI *Machine Learning* Repository](https://archive.ics.uci.edu/ml/datasets/heart+Disease).\n",
        "\n",
        "A diferencia del fichero `csv` que se puso a disposición en el Módulo 3, [en este enlace](http://dl.dropboxusercontent.com/s/6d91j46mkcdj4qv/heart-disease-clean.csv?dl=0) puedes encontrar el fichero con los datos ya procesados. Para nuestra variable objetivo (*target*) encontrará las siguientes categorías:\n",
        "\n",
        "* `num` - diagnóstico de cardiopatía (diagnóstico angiográfico)\n",
        "  * 0: no hay cardiopatía (< 50% de estrechamiento del diámetro)\n",
        "  * 1: hay cardiopatía (> 50% de estrechamiento del diámetro)"
      ],
      "metadata": {
        "id": "iFd_WB19Z6a0"
      }
    },
    {
      "cell_type": "code",
      "execution_count": null,
      "metadata": {
        "id": "dhaZ0TqEZlXJ"
      },
      "outputs": [],
      "source": []
    }
  ]
}