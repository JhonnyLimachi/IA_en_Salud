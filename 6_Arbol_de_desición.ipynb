{
  "nbformat": 4,
  "nbformat_minor": 0,
  "metadata": {
    "colab": {
      "provenance": [],
      "authorship_tag": "ABX9TyPEz55xGYo7766KL5QLcnRK",
      "include_colab_link": true
    },
    "kernelspec": {
      "name": "python3",
      "display_name": "Python 3"
    },
    "language_info": {
      "name": "python"
    }
  },
  "cells": [
    {
      "cell_type": "markdown",
      "metadata": {
        "id": "view-in-github",
        "colab_type": "text"
      },
      "source": [
        "<a href=\"https://colab.research.google.com/github/JhonnyLimachi/IA_en_Salud/blob/main/6_Arbol_de_desici%C3%B3n.ipynb\" target=\"_parent\"><img src=\"https://colab.research.google.com/assets/colab-badge.svg\" alt=\"Open In Colab\"/></a>"
      ]
    },
    {
      "cell_type": "markdown",
      "source": [
        "<img alt=\"Colaboratory logo\" width=\"15%\" src=\"https://raw.githubusercontent.com/carlosfab/escola-data-science/master/img/novo_logo_bg_claro.png\">\n",
        "\n",
        "#### **Data Science na Prática 4.0**\n",
        "*by [sigmoidal.ai](https://sigmoidal.ai)*\n",
        "\n",
        "---"
      ],
      "metadata": {
        "id": "XVeMvCd6nFuX"
      }
    },
    {
      "cell_type": "markdown",
      "source": [
        "# Árbol de decisión\n",
        "\n",
        "*El Árbol de Decisión* es un algoritmo de aprendizaje supervisado para el Aprendizaje Automático, y puede utilizarse tanto para la clasificación como para la regresión.\n",
        "\n",
        "Un Árbol de Decisión* se construye mediante un proceso de inducción, que divide los datos en subconjuntos cada vez más puros. Para seleccionar los atributos que compondrán el árbol, se tienen en cuenta el grado de entropía de un nodo y la información extra obtenida tras una *división*.\n",
        "\n",
        "<p align=center>\n",
        "  <img src=\"https://www.smartdraw.com/decision-tree/img/structure-of-a-decision-tree.png\" width=\"50%\">\n",
        "</p>\n",
        "\n",
        "Traducción realizada con la versión gratuita del traductor DeepL.com"
      ],
      "metadata": {
        "id": "NWJ3m8vdnLjX"
      }
    },
    {
      "cell_type": "code",
      "execution_count": null,
      "metadata": {
        "id": "xfGL42ylmiDZ"
      },
      "outputs": [],
      "source": []
    }
  ]
}