{
  "nbformat": 4,
  "nbformat_minor": 0,
  "metadata": {
    "colab": {
      "provenance": [],
      "authorship_tag": "ABX9TyPLdEgC6E1Uc1n/6FSJ/JIZ",
      "include_colab_link": true
    },
    "kernelspec": {
      "name": "python3",
      "display_name": "Python 3"
    },
    "language_info": {
      "name": "python"
    }
  },
  "cells": [
    {
      "cell_type": "markdown",
      "metadata": {
        "id": "view-in-github",
        "colab_type": "text"
      },
      "source": [
        "<a href=\"https://colab.research.google.com/github/JhonnyLimachi/IA_en_Salud/blob/main/11_Modelos.ipynb\" target=\"_parent\"><img src=\"https://colab.research.google.com/assets/colab-badge.svg\" alt=\"Open In Colab\"/></a>"
      ]
    },
    {
      "cell_type": "markdown",
      "source": [
        "\n",
        "\n",
        "  <h3 style=\"color: #343a40; margin: 0; font-size: 20px;\"><strong>MACHINE LEARNING I</strong></h2>\n",
        "  <p style=\"color: #6c757d; margin: 5px 0 0; font-size: 14px;\"><strong>Autor:</strong> Jhonny Limachi-Choque, MSc.</p>\n",
        "</div>"
      ],
      "metadata": {
        "id": "HkqHic0o3PQB"
      }
    },
    {
      "cell_type": "code",
      "source": [
        "from google.colab import drive\n",
        "drive.mount('/content/drive')"
      ],
      "metadata": {
        "id": "ZrN1Oi9z3PNI"
      },
      "execution_count": null,
      "outputs": []
    },
    {
      "cell_type": "markdown",
      "source": [
        "# 1. Representação de Modelos\n",
        "\n",
        "Neste laboratório, vamos introduzir os conceitos fundamentais de representação de modelos em Machine Learning. A representação do modelo é uma etapa crucial, pois define como o nosso algoritmo irá aprender a partir dos dados fornecidos. Neste exemplo prático, trabalharemos com regressão linear, ajustando uma linha reta aos dados.\n",
        "\n",
        "<center><img src=\"https://sigmoidal.ai/wp-content/uploads/2024/09/Representacao-do-Modelo.png\" alt=\"Academia Sigmoidal Logo\" width=\"400\" height=\"auto\"></center>\n",
        "\n",
        "### Notação utilizada\n",
        "\n",
        "Para facilitar a compreensão, usaremos as seguintes notações:\n",
        "\n",
        "- $\\alpha$ : Taxa de aprendizado (learning rate)\n",
        "- $x$ : Variáveis de entrada (features)\n",
        "- $x_{\\text{train}}$ : Conjunto de treinamento de entrada\n",
        "- $y_{\\text{train}}$ : Conjunto de treinamento de saída\n",
        "- $x^{(i)}$ : A i-ésima entrada de dados\n",
        "- $h_{\\theta}(x)$ : Função de hipótese, ou seja, a nossa predição\n",
        "- $\\theta_0, \\theta_1$ : Parâmetros do modelo (pesos)\n"
      ],
      "metadata": {
        "id": "wAPB2Sjv3-FY"
      }
    },
    {
      "cell_type": "code",
      "source": [
        "# importing necessary libraries\n",
        "\n",
        "import numpy as np\n",
        "import matplotlib.pyplot as plt\n",
        "from mpl_toolkits.mplot3d import Axes3D"
      ],
      "metadata": {
        "id": "TTR47y6r4DrY"
      },
      "execution_count": null,
      "outputs": []
    },
    {
      "cell_type": "markdown",
      "source": [
        "## Enunciado do Problema\n",
        "\n",
        "Neste laboratório, você será motivado pela aplicação de Machine Learning no contexto da predição de pousos de foguetes reutilizáveis. Imagine que você está desenvolvendo um sistema de pouso para foguetes e deseja prever a distância do foguete em relação à plataforma de pouso com base na quantidade de combustível restante. Essa predição é essencial para garantir pousos seguros e precisos.\n",
        "\n",
        "\n",
        "\n",
        "<br>\n",
        "\n",
        "<center><img src=\"https://sigmoidal.ai/wp-content/uploads/2024/09/Screenshot-2024-09-27-at-8.58.32-AM.png\" alt=\"Academia Sigmoidal Logo\" width=\"400\" height=\"auto\"></center>\n",
        "\n",
        "<center>\n",
        "Esses dois pontos constituirão nosso *conjunto de dados de treinamento*.\n",
        "\n",
        "| Combustível Restante (unidades) | Distância (unidades) |\n",
        "| ----------------------------- | -------------------- |\n",
        "| 1.0                           | 1.5                  |\n",
        "| 2.0                           | 2.5                  |\n",
        "</center><br></center>\n",
        "\n",
        "<br></center>\n",
        "Este laboratório usará um conjunto de dados simples com apenas dois pontos - um foguete com 1.0 unidades de combustível restante, que aterrissou a 1.5 unidades de distância da plataforma, e outro foguete com 2.0 unidades de combustível restante, que aterrissou a 2.5 unidades de distância.\n",
        "\n",
        "Nosso objetivo será ajustar um modelo de regressão linear (representado pela linha reta azul) a esses dois pontos, para que possamos prever a distância de pouso de outros foguetes, por exemplo, um foguete com 1.2 unidades de combustível restante."
      ],
      "metadata": {
        "id": "LyK_BROq4Olt"
      }
    }
  ]
}