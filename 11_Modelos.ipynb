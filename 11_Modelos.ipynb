{
  "nbformat": 4,
  "nbformat_minor": 0,
  "metadata": {
    "colab": {
      "provenance": [],
      "authorship_tag": "ABX9TyO3VgkAkqEKc3Y2O9/DI1BG",
      "include_colab_link": true
    },
    "kernelspec": {
      "name": "python3",
      "display_name": "Python 3"
    },
    "language_info": {
      "name": "python"
    }
  },
  "cells": [
    {
      "cell_type": "markdown",
      "metadata": {
        "id": "view-in-github",
        "colab_type": "text"
      },
      "source": [
        "<a href=\"https://colab.research.google.com/github/JhonnyLimachi/IA_en_Salud/blob/main/11_Modelos.ipynb\" target=\"_parent\"><img src=\"https://colab.research.google.com/assets/colab-badge.svg\" alt=\"Open In Colab\"/></a>"
      ]
    },
    {
      "cell_type": "markdown",
      "source": [
        "\n",
        "\n",
        "  <h3 style=\"color: #343a40; margin: 0; font-size: 20px;\"><strong>DS-201: MACHINE LEARNING I</strong></h2>\n",
        "  <p style=\"color: #6c757d; margin: 5px 0 0; font-size: 14px;\"><strong>Instrutor:</strong> Jhonny Limachi-Choque, MSc.</p>\n",
        "</div>"
      ],
      "metadata": {
        "id": "HkqHic0o3PQB"
      }
    }
  ]
}