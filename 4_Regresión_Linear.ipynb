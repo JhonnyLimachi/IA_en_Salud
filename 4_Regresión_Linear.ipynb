{
  "nbformat": 4,
  "nbformat_minor": 0,
  "metadata": {
    "colab": {
      "provenance": [],
      "authorship_tag": "ABX9TyNj3XzuRdAXgsNJ6FvkaCcN",
      "include_colab_link": true
    },
    "kernelspec": {
      "name": "python3",
      "display_name": "Python 3"
    },
    "language_info": {
      "name": "python"
    }
  },
  "cells": [
    {
      "cell_type": "markdown",
      "metadata": {
        "id": "view-in-github",
        "colab_type": "text"
      },
      "source": [
        "<a href=\"https://colab.research.google.com/github/JhonnyLimachi/IA_en_Salud/blob/main/4_Regresi%C3%B3n_Linear.ipynb\" target=\"_parent\"><img src=\"https://colab.research.google.com/assets/colab-badge.svg\" alt=\"Open In Colab\"/></a>"
      ]
    },
    {
      "cell_type": "markdown",
      "source": [
        "<img alt=\"Colaboratory logo\" width=\"15%\" src=\"https://raw.githubusercontent.com/carlosfab/escola-data-science/master/img/novo_logo_bg_claro.png\">\n",
        "\n",
        "#### **Data Science na Prática 4.0**\n",
        "*by [sigmoidal.ai](https://sigmoidal.ai)*\n",
        "\n",
        "---"
      ],
      "metadata": {
        "id": "D6RPtLmmtDSk"
      }
    },
    {
      "cell_type": "markdown",
      "source": [
        "# Regresión lineal\n",
        "\n",
        "El análisis de regresión estudia la relación entre una variable dependiente y una o más variables independientes. Esta relación se representa mediante un modelo matemático. Cuando sólo hay una variable independiente que establece una relación lineal con la variable dependiente, este modelo se denomina regresión lineal simple. Cuando hay varias variables independientes, tenemos un modelo de regresión lineal múltiple.\n",
        "\n",
        "\n",
        "Si alguna vez has vendido algo, sabes lo difícil que es fijar un buen precio de venta. A menudo fijamos un precio demasiado bajo (y vendemos en el acto) y otras veces fijamos un precio tan alto que no interesa a nadie. Si hablamos de inmuebles, hay varios factores que complican la situación.\n",
        "\n",
        "<p align=\"center\">\n",
        "<img src=\"https://data-science-blog.com/wp-content/uploads/2022/05/linear-regression-error-term.png\" width=\"50%\"></p>\n",
        "\n",
        "En la figura anterior, tenemos el *scatter plot* entre la superficie de la propiedad y el precio de venta para la ciudad de Ames, situada en el estado estadounidense de Iowa. Supongamos que tienes una casa con una superficie de 1339 $m^2$ y quieres ponerla a la venta. ¿Qué precio le pondría?\n",
        "\n",
        "Puesto que tenemos datos de miles de otras casas y parece que estos datos tienen una relación lineal, ¿por qué no intentar trazar una línea para deducir el precio de nuestra propia casa?\n",
        "\n",
        "<p align=\"center\">\n",
        "<img src=\"https://miro.medium.com/v2/resize:fit:1400/1*Cw5ZSYDkIFpmhBwr-hN84A.png\" width=\"50%\"></p>\n",
        "\n",
        "Uma reta por ser representada por uma equação do tipo $\\hat{y} = \\theta_0 + \\theta_1 x_1$, onde $\\hat{y}$ é o valor que estamos querendo prever.\n",
        "\n",
        "Para saber \"cómo de buena\" es una recta, es decir, si es ideal para representar nuestros puntos, podemos calcular el error cuadrático medio (*Mean Squared Error* - MSE) de todos los puntos.\n",
        "\n",
        "$$MSE = \\frac{1}{n} \\sum_{i=1}^{n}(y_i - \\hat{y}_i)^2$$\n",
        "\n",
        "Básicamente, esta ecuación calcula la distancia de cada punto a la recta. Cuanto menor sea este valor, mejor será nuestra solución. El algoritmo `scikit-learn` hace todos los cálculos para minimizar este valor tanto como sea posible para nosotros. Cuando encuentra este valor *óptimo*, almacena los valores de los coeficientes y el intercepto como un atributo de la variable.\n",
        "\n",
        "<p align=\"center\">\n",
        "<img src=\"https://vitalflux.com/wp-content/uploads/2022/02/linear-regression-f-statistics-definition.jpg\" width=\"80%\"></p>\n",
        "\n",
        "## Regressão Linear Simples\n",
        "\n",
        "Para demonstrar como implementar uma Regressão Linear Simples, nós iremos usar o *dataset* [House Prices: Advanced Regression Techniques](https://www.kaggle.com/c/house-prices-advanced-regression-techniques/data) juntamente com a biblioteca `scikit-learn`.\n",
        "\n",
        "\n",
        "El [dataset original](https://www.kaggle.com/c/house-prices-advanced-regression-techniques/data) que estoy utilizando en este *notebook* contiene 79 variables relacionadas con el sector inmobiliario de Ames, una ciudad situada en el estado norteamericano de Iowa, y está disponible para su descarga en Kaggle. Sin embargo, para facilitar la comprensión de los conceptos básicos, he preparado una versión simplificada de este *dataset*, en la que sólo hay una variable. El archivo `csv` está disponible [en este enlace](http://dl.dropboxusercontent.com/s/g8cgvjiorjbz54p/precificacao_housing.csv?dl=0).\n",
        "\n",
        "\n",
        "Empezaré importando el fichero en un *DataFrame* y analizándolo muy rápidamente. Recuerda que el objetivo de este módulo no es realizar un análisis exploratorio exhaustivo, sino centrarnos en la fase de implementación de modelos de *Machine Learning*.\n"
      ],
      "metadata": {
        "id": "pAADTU_dtNEx"
      }
    },
    {
      "cell_type": "markdown",
      "source": [],
      "metadata": {
        "id": "ZX8be7oU7aJq"
      }
    },
    {
      "cell_type": "code",
      "execution_count": null,
      "metadata": {
        "id": "I91he4shs9O5"
      },
      "outputs": [],
      "source": []
    }
  ]
}