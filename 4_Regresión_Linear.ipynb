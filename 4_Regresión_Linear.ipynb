{
  "nbformat": 4,
  "nbformat_minor": 0,
  "metadata": {
    "colab": {
      "provenance": [],
      "authorship_tag": "ABX9TyM0JRg2K9s4znFzw4JVjCAO",
      "include_colab_link": true
    },
    "kernelspec": {
      "name": "python3",
      "display_name": "Python 3"
    },
    "language_info": {
      "name": "python"
    }
  },
  "cells": [
    {
      "cell_type": "markdown",
      "metadata": {
        "id": "view-in-github",
        "colab_type": "text"
      },
      "source": [
        "<a href=\"https://colab.research.google.com/github/JhonnyLimachi/IA_en_Salud/blob/main/4_Regresi%C3%B3n_Linear.ipynb\" target=\"_parent\"><img src=\"https://colab.research.google.com/assets/colab-badge.svg\" alt=\"Open In Colab\"/></a>"
      ]
    },
    {
      "cell_type": "markdown",
      "source": [
        "<img alt=\"Colaboratory logo\" width=\"15%\" src=\"https://raw.githubusercontent.com/carlosfab/escola-data-science/master/img/novo_logo_bg_claro.png\">\n",
        "\n",
        "#### **Data Science na Prática 4.0**\n",
        "*by [sigmoidal.ai](https://sigmoidal.ai)*\n",
        "\n",
        "---"
      ],
      "metadata": {
        "id": "D6RPtLmmtDSk"
      }
    },
    {
      "cell_type": "markdown",
      "source": [
        "# Regresión lineal\n",
        "\n",
        "El análisis de regresión estudia la relación entre una variable dependiente y una o más variables independientes. Esta relación se representa mediante un modelo matemático. Cuando sólo hay una variable independiente que establece una relación lineal con la variable dependiente, este modelo se denomina regresión lineal simple. Cuando hay varias variables independientes, tenemos un modelo de regresión lineal múltiple.\n",
        "\n",
        "\n",
        "Si alguna vez has vendido algo, sabes lo difícil que es fijar un buen precio de venta. A menudo fijamos un precio demasiado bajo (y vendemos en el acto) y otras veces fijamos un precio tan alto que no interesa a nadie. Si hablamos de inmuebles, hay varios factores que complican la situación.\n",
        "\n",
        "<p align=\"center\">\n",
        "<img src=\"https://data-science-blog.com/wp-content/uploads/2022/05/linear-regression-error-term.png\" width=\"50%\"></p>\n",
        "\n",
        "En la figura anterior, tenemos el *scatter plot* entre la superficie de la propiedad y el precio de venta para la ciudad de Ames, situada en el estado estadounidense de Iowa. Supongamos que tienes una casa con una superficie de 1339 $m^2$ y quieres ponerla a la venta. ¿Qué precio le pondría?\n",
        "\n",
        "Puesto que tenemos datos de miles de otras casas y parece que estos datos tienen una relación lineal, ¿por qué no intentar trazar una línea para deducir el precio de nuestra propia casa?\n",
        "\n",
        "<p align=\"center\">\n",
        "<img src=\"https://miro.medium.com/v2/resize:fit:1400/1*Cw5ZSYDkIFpmhBwr-hN84A.png\" width=\"50%\"></p>\n",
        "\n",
        "Uma reta por ser representada por uma equação do tipo $\\hat{y} = \\theta_0 + \\theta_1 x_1$, onde $\\hat{y}$ é o valor que estamos querendo prever.\n",
        "\n",
        "Para saber \"cómo de buena\" es una recta, es decir, si es ideal para representar nuestros puntos, podemos calcular el error cuadrático medio (*Mean Squared Error* - MSE) de todos los puntos.\n",
        "\n",
        "$$MSE = \\frac{1}{n} \\sum_{i=1}^{n}(y_i - \\hat{y}_i)^2$$\n",
        "\n",
        "Básicamente, esta ecuación calcula la distancia de cada punto a la recta. Cuanto menor sea este valor, mejor será nuestra solución. El algoritmo `scikit-learn` hace todos los cálculos para minimizar este valor tanto como sea posible para nosotros. Cuando encuentra este valor *óptimo*, almacena los valores de los coeficientes y el intercepto como un atributo de la variable.\n",
        "\n",
        "<p align=\"center\">\n",
        "<img src=\"https://vitalflux.com/wp-content/uploads/2022/02/linear-regression-f-statistics-definition.jpg\" width=\"80%\"></p>\n",
        "\n",
        "## Regressão Linear Simples\n",
        "\n",
        "Para demonstrar como implementar uma Regressão Linear Simples, nós iremos usar o *dataset* [House Prices: Advanced Regression Techniques](https://www.kaggle.com/c/house-prices-advanced-regression-techniques/data) juntamente com a biblioteca `scikit-learn`.\n",
        "\n",
        "\n",
        "El [dataset original](https://www.kaggle.com/c/house-prices-advanced-regression-techniques/data) que estoy utilizando en este *notebook* contiene 79 variables relacionadas con el sector inmobiliario de Ames, una ciudad situada en el estado norteamericano de Iowa, y está disponible para su descarga en Kaggle. Sin embargo, para facilitar la comprensión de los conceptos básicos, he preparado una versión simplificada de este *dataset*, en la que sólo hay una variable. El archivo `csv` está disponible [en este enlace](http://dl.dropboxusercontent.com/s/g8cgvjiorjbz54p/precificacao_housing.csv?dl=0).\n",
        "\n",
        "\n",
        "Empezaré importando el fichero en un *DataFrame* y analizándolo muy rápidamente. Recuerda que el objetivo de este módulo no es realizar un análisis exploratorio exhaustivo, sino centrarnos en la fase de implementación de modelos de *Machine Learning*.\n"
      ],
      "metadata": {
        "id": "pAADTU_dtNEx"
      }
    },
    {
      "cell_type": "code",
      "execution_count": 2,
      "metadata": {
        "id": "I91he4shs9O5",
        "colab": {
          "base_uri": "https://localhost:8080/",
          "height": 206
        },
        "outputId": "06c9133f-40a2-4d98-e8e3-cf044039149e"
      },
      "outputs": [
        {
          "output_type": "execute_result",
          "data": {
            "text/plain": [
              "   GrLivArea  SalePrice\n",
              "0       1710     208500\n",
              "1       1262     181500\n",
              "2       1786     223500\n",
              "3       1717     140000\n",
              "4       2198     250000"
            ],
            "text/html": [
              "\n",
              "  <div id=\"df-dde98a53-2cbc-4323-b4be-a4b0ab82e0d3\" class=\"colab-df-container\">\n",
              "    <div>\n",
              "<style scoped>\n",
              "    .dataframe tbody tr th:only-of-type {\n",
              "        vertical-align: middle;\n",
              "    }\n",
              "\n",
              "    .dataframe tbody tr th {\n",
              "        vertical-align: top;\n",
              "    }\n",
              "\n",
              "    .dataframe thead th {\n",
              "        text-align: right;\n",
              "    }\n",
              "</style>\n",
              "<table border=\"1\" class=\"dataframe\">\n",
              "  <thead>\n",
              "    <tr style=\"text-align: right;\">\n",
              "      <th></th>\n",
              "      <th>GrLivArea</th>\n",
              "      <th>SalePrice</th>\n",
              "    </tr>\n",
              "  </thead>\n",
              "  <tbody>\n",
              "    <tr>\n",
              "      <th>0</th>\n",
              "      <td>1710</td>\n",
              "      <td>208500</td>\n",
              "    </tr>\n",
              "    <tr>\n",
              "      <th>1</th>\n",
              "      <td>1262</td>\n",
              "      <td>181500</td>\n",
              "    </tr>\n",
              "    <tr>\n",
              "      <th>2</th>\n",
              "      <td>1786</td>\n",
              "      <td>223500</td>\n",
              "    </tr>\n",
              "    <tr>\n",
              "      <th>3</th>\n",
              "      <td>1717</td>\n",
              "      <td>140000</td>\n",
              "    </tr>\n",
              "    <tr>\n",
              "      <th>4</th>\n",
              "      <td>2198</td>\n",
              "      <td>250000</td>\n",
              "    </tr>\n",
              "  </tbody>\n",
              "</table>\n",
              "</div>\n",
              "    <div class=\"colab-df-buttons\">\n",
              "\n",
              "  <div class=\"colab-df-container\">\n",
              "    <button class=\"colab-df-convert\" onclick=\"convertToInteractive('df-dde98a53-2cbc-4323-b4be-a4b0ab82e0d3')\"\n",
              "            title=\"Convert this dataframe to an interactive table.\"\n",
              "            style=\"display:none;\">\n",
              "\n",
              "  <svg xmlns=\"http://www.w3.org/2000/svg\" height=\"24px\" viewBox=\"0 -960 960 960\">\n",
              "    <path d=\"M120-120v-720h720v720H120Zm60-500h600v-160H180v160Zm220 220h160v-160H400v160Zm0 220h160v-160H400v160ZM180-400h160v-160H180v160Zm440 0h160v-160H620v160ZM180-180h160v-160H180v160Zm440 0h160v-160H620v160Z\"/>\n",
              "  </svg>\n",
              "    </button>\n",
              "\n",
              "  <style>\n",
              "    .colab-df-container {\n",
              "      display:flex;\n",
              "      gap: 12px;\n",
              "    }\n",
              "\n",
              "    .colab-df-convert {\n",
              "      background-color: #E8F0FE;\n",
              "      border: none;\n",
              "      border-radius: 50%;\n",
              "      cursor: pointer;\n",
              "      display: none;\n",
              "      fill: #1967D2;\n",
              "      height: 32px;\n",
              "      padding: 0 0 0 0;\n",
              "      width: 32px;\n",
              "    }\n",
              "\n",
              "    .colab-df-convert:hover {\n",
              "      background-color: #E2EBFA;\n",
              "      box-shadow: 0px 1px 2px rgba(60, 64, 67, 0.3), 0px 1px 3px 1px rgba(60, 64, 67, 0.15);\n",
              "      fill: #174EA6;\n",
              "    }\n",
              "\n",
              "    .colab-df-buttons div {\n",
              "      margin-bottom: 4px;\n",
              "    }\n",
              "\n",
              "    [theme=dark] .colab-df-convert {\n",
              "      background-color: #3B4455;\n",
              "      fill: #D2E3FC;\n",
              "    }\n",
              "\n",
              "    [theme=dark] .colab-df-convert:hover {\n",
              "      background-color: #434B5C;\n",
              "      box-shadow: 0px 1px 3px 1px rgba(0, 0, 0, 0.15);\n",
              "      filter: drop-shadow(0px 1px 2px rgba(0, 0, 0, 0.3));\n",
              "      fill: #FFFFFF;\n",
              "    }\n",
              "  </style>\n",
              "\n",
              "    <script>\n",
              "      const buttonEl =\n",
              "        document.querySelector('#df-dde98a53-2cbc-4323-b4be-a4b0ab82e0d3 button.colab-df-convert');\n",
              "      buttonEl.style.display =\n",
              "        google.colab.kernel.accessAllowed ? 'block' : 'none';\n",
              "\n",
              "      async function convertToInteractive(key) {\n",
              "        const element = document.querySelector('#df-dde98a53-2cbc-4323-b4be-a4b0ab82e0d3');\n",
              "        const dataTable =\n",
              "          await google.colab.kernel.invokeFunction('convertToInteractive',\n",
              "                                                    [key], {});\n",
              "        if (!dataTable) return;\n",
              "\n",
              "        const docLinkHtml = 'Like what you see? Visit the ' +\n",
              "          '<a target=\"_blank\" href=https://colab.research.google.com/notebooks/data_table.ipynb>data table notebook</a>'\n",
              "          + ' to learn more about interactive tables.';\n",
              "        element.innerHTML = '';\n",
              "        dataTable['output_type'] = 'display_data';\n",
              "        await google.colab.output.renderOutput(dataTable, element);\n",
              "        const docLink = document.createElement('div');\n",
              "        docLink.innerHTML = docLinkHtml;\n",
              "        element.appendChild(docLink);\n",
              "      }\n",
              "    </script>\n",
              "  </div>\n",
              "\n",
              "\n",
              "<div id=\"df-0b7fc7c7-dc33-4a17-baf5-6e7ff54c8a97\">\n",
              "  <button class=\"colab-df-quickchart\" onclick=\"quickchart('df-0b7fc7c7-dc33-4a17-baf5-6e7ff54c8a97')\"\n",
              "            title=\"Suggest charts\"\n",
              "            style=\"display:none;\">\n",
              "\n",
              "<svg xmlns=\"http://www.w3.org/2000/svg\" height=\"24px\"viewBox=\"0 0 24 24\"\n",
              "     width=\"24px\">\n",
              "    <g>\n",
              "        <path d=\"M19 3H5c-1.1 0-2 .9-2 2v14c0 1.1.9 2 2 2h14c1.1 0 2-.9 2-2V5c0-1.1-.9-2-2-2zM9 17H7v-7h2v7zm4 0h-2V7h2v10zm4 0h-2v-4h2v4z\"/>\n",
              "    </g>\n",
              "</svg>\n",
              "  </button>\n",
              "\n",
              "<style>\n",
              "  .colab-df-quickchart {\n",
              "      --bg-color: #E8F0FE;\n",
              "      --fill-color: #1967D2;\n",
              "      --hover-bg-color: #E2EBFA;\n",
              "      --hover-fill-color: #174EA6;\n",
              "      --disabled-fill-color: #AAA;\n",
              "      --disabled-bg-color: #DDD;\n",
              "  }\n",
              "\n",
              "  [theme=dark] .colab-df-quickchart {\n",
              "      --bg-color: #3B4455;\n",
              "      --fill-color: #D2E3FC;\n",
              "      --hover-bg-color: #434B5C;\n",
              "      --hover-fill-color: #FFFFFF;\n",
              "      --disabled-bg-color: #3B4455;\n",
              "      --disabled-fill-color: #666;\n",
              "  }\n",
              "\n",
              "  .colab-df-quickchart {\n",
              "    background-color: var(--bg-color);\n",
              "    border: none;\n",
              "    border-radius: 50%;\n",
              "    cursor: pointer;\n",
              "    display: none;\n",
              "    fill: var(--fill-color);\n",
              "    height: 32px;\n",
              "    padding: 0;\n",
              "    width: 32px;\n",
              "  }\n",
              "\n",
              "  .colab-df-quickchart:hover {\n",
              "    background-color: var(--hover-bg-color);\n",
              "    box-shadow: 0 1px 2px rgba(60, 64, 67, 0.3), 0 1px 3px 1px rgba(60, 64, 67, 0.15);\n",
              "    fill: var(--button-hover-fill-color);\n",
              "  }\n",
              "\n",
              "  .colab-df-quickchart-complete:disabled,\n",
              "  .colab-df-quickchart-complete:disabled:hover {\n",
              "    background-color: var(--disabled-bg-color);\n",
              "    fill: var(--disabled-fill-color);\n",
              "    box-shadow: none;\n",
              "  }\n",
              "\n",
              "  .colab-df-spinner {\n",
              "    border: 2px solid var(--fill-color);\n",
              "    border-color: transparent;\n",
              "    border-bottom-color: var(--fill-color);\n",
              "    animation:\n",
              "      spin 1s steps(1) infinite;\n",
              "  }\n",
              "\n",
              "  @keyframes spin {\n",
              "    0% {\n",
              "      border-color: transparent;\n",
              "      border-bottom-color: var(--fill-color);\n",
              "      border-left-color: var(--fill-color);\n",
              "    }\n",
              "    20% {\n",
              "      border-color: transparent;\n",
              "      border-left-color: var(--fill-color);\n",
              "      border-top-color: var(--fill-color);\n",
              "    }\n",
              "    30% {\n",
              "      border-color: transparent;\n",
              "      border-left-color: var(--fill-color);\n",
              "      border-top-color: var(--fill-color);\n",
              "      border-right-color: var(--fill-color);\n",
              "    }\n",
              "    40% {\n",
              "      border-color: transparent;\n",
              "      border-right-color: var(--fill-color);\n",
              "      border-top-color: var(--fill-color);\n",
              "    }\n",
              "    60% {\n",
              "      border-color: transparent;\n",
              "      border-right-color: var(--fill-color);\n",
              "    }\n",
              "    80% {\n",
              "      border-color: transparent;\n",
              "      border-right-color: var(--fill-color);\n",
              "      border-bottom-color: var(--fill-color);\n",
              "    }\n",
              "    90% {\n",
              "      border-color: transparent;\n",
              "      border-bottom-color: var(--fill-color);\n",
              "    }\n",
              "  }\n",
              "</style>\n",
              "\n",
              "  <script>\n",
              "    async function quickchart(key) {\n",
              "      const quickchartButtonEl =\n",
              "        document.querySelector('#' + key + ' button');\n",
              "      quickchartButtonEl.disabled = true;  // To prevent multiple clicks.\n",
              "      quickchartButtonEl.classList.add('colab-df-spinner');\n",
              "      try {\n",
              "        const charts = await google.colab.kernel.invokeFunction(\n",
              "            'suggestCharts', [key], {});\n",
              "      } catch (error) {\n",
              "        console.error('Error during call to suggestCharts:', error);\n",
              "      }\n",
              "      quickchartButtonEl.classList.remove('colab-df-spinner');\n",
              "      quickchartButtonEl.classList.add('colab-df-quickchart-complete');\n",
              "    }\n",
              "    (() => {\n",
              "      let quickchartButtonEl =\n",
              "        document.querySelector('#df-0b7fc7c7-dc33-4a17-baf5-6e7ff54c8a97 button');\n",
              "      quickchartButtonEl.style.display =\n",
              "        google.colab.kernel.accessAllowed ? 'block' : 'none';\n",
              "    })();\n",
              "  </script>\n",
              "</div>\n",
              "\n",
              "    </div>\n",
              "  </div>\n"
            ],
            "application/vnd.google.colaboratory.intrinsic+json": {
              "type": "dataframe",
              "variable_name": "df",
              "summary": "{\n  \"name\": \"df\",\n  \"rows\": 1338,\n  \"fields\": [\n    {\n      \"column\": \"GrLivArea\",\n      \"properties\": {\n        \"dtype\": \"number\",\n        \"std\": 427,\n        \"min\": 334,\n        \"max\": 2978,\n        \"num_unique_values\": 766,\n        \"samples\": [\n          1520,\n          932,\n          1484\n        ],\n        \"semantic_type\": \"\",\n        \"description\": \"\"\n      }\n    },\n    {\n      \"column\": \"SalePrice\",\n      \"properties\": {\n        \"dtype\": \"number\",\n        \"std\": 52042,\n        \"min\": 34900,\n        \"max\": 299800,\n        \"num_unique_values\": 564,\n        \"samples\": [\n          156932,\n          128900,\n          240000\n        ],\n        \"semantic_type\": \"\",\n        \"description\": \"\"\n      }\n    }\n  ]\n}"
            }
          },
          "metadata": {},
          "execution_count": 2
        }
      ],
      "source": [
        "# importar los paquetes necesários\n",
        "import pandas as pd\n",
        "import matplotlib.pyplot as plt\n",
        "\n",
        "# importar el archivo\n",
        "df = pd.read_csv(\"http://dl.dropboxusercontent.com/s/g8cgvjiorjbz54p/precificacao_housing.csv?dl=0\")\n",
        "\n",
        "# ver las primeiras entradas\n",
        "df.head()"
      ]
    },
    {
      "cell_type": "markdown",
      "source": [
        "El *dataset* importado contiene la variable `GrLivArea` con el tamaño de la propiedad ($m^2$) y la variable objetivo `SalePrice` con su precio de venta. Voy a trazar un gráfico de dispersión para que te hagas una idea de cómo están relacionados los puntos."
      ],
      "metadata": {
        "id": "CpUu4djP7479"
      }
    },
    {
      "cell_type": "code",
      "source": [
        "# plotar gráfico de dispersión.\n",
        "fig, ax = plt.subplots(figsize=(8,5))\n",
        "df.plot.scatter(x='GrLivArea', y='SalePrice', ax=ax)\n",
        "plt.show()"
      ],
      "metadata": {
        "colab": {
          "base_uri": "https://localhost:8080/",
          "height": 465
        },
        "id": "_pjZruV676qt",
        "outputId": "813e50f4-2c05-4ed0-ce6f-004c250aa600"
      },
      "execution_count": 3,
      "outputs": [
        {
          "output_type": "display_data",
          "data": {
            "text/plain": [
              "<Figure size 800x500 with 1 Axes>"
            ],
            "image/png": "[encoded data removed]"
          },
          "metadata": {}
        }
      ]
    },
    {
      "cell_type": "markdown",
      "source": [
        "### Simple Linear Regression with `scikit-learn`\n",
        "\n",
        "Una vez que hayas hecho todo el análisis exploratorio, definido las variables y preparado los datos adecuadamente, es hora de construir la Regresión Lineal Simple.\n",
        "\n",
        "En las competiciones de Kaggle, se suelen proporcionar datos de entrenamiento y de prueba. En el mundo real, tienes que dividir tu conjunto entre *entrenamiento* y *prueba* para que se excluyan mutuamente.\n",
        "\n",
        "Este paso es extremadamente importante, ya que hará que el modelo sea más genérico y más preciso en relación con los nuevos datos que puedan introducirse en él. En este *dataset*, voy a separar el 20% de los datos para la prueba al final.\n"
      ],
      "metadata": {
        "id": "SqhfYBtf-Ydq"
      }
    },
    {
      "cell_type": "code",
      "source": [
        "# importar bibliotecas\n",
        "from sklearn.model_selection import train_test_split\n",
        "from sklearn.metrics import r2_score\n",
        "from sklearn.metrics import mean_absolute_error\n",
        "from sklearn.metrics import mean_squared_error"
      ],
      "metadata": {
        "id": "7vvocl04_eCp"
      },
      "execution_count": 4,
      "outputs": []
    },
    {
      "cell_type": "markdown",
      "source": [
        "Voy a separar la variable dependiente (`SalePrice`) de nuestra *característica*, y utilizar la función `train_test_split` para dividir los datos de entrenamiento y de prueba."
      ],
      "metadata": {
        "id": "3Vff_VOPAu_Q"
      }
    },
    {
      "cell_type": "code",
      "source": [
        "# 0. Importar bibliotecas necesarias\n",
        "import pandas as pd\n",
        "from sklearn.model_selection import train_test_split\n",
        "from sklearn.linear_model import LinearRegression\n",
        "\n",
        "# 1. Cargar los datos (suponiendo que 'df' ya está definido)\n",
        "# Ejemplo ficticio para demostración\n",
        "data = {\n",
        "    'GrLivArea': [1500, 1800, 1200, 2000, 1400],\n",
        "    'SalePrice': [300000, 350000, 250000, 400000, 280000]\n",
        "}\n",
        "df = pd.DataFrame(data)\n",
        "\n",
        "# 2. Escoger e importar un modelo\n",
        "model = LinearRegression()\n",
        "\n",
        "# 3. Separar los datos entre feature matrix (X) y target vector (y)\n",
        "X = df[['GrLivArea']]  # Usando dobles corchetes para mantener X como DataFrame\n",
        "y = df['SalePrice']\n",
        "\n",
        "# 3.1 Dividir el dataset entre conjunto de entrenamiento y prueba\n",
        "X_train, X_test, y_train, y_test = train_test_split(X, y, test_size=0.2, random_state=42)\n",
        "\n",
        "# 4. Fit del modelo (entrenamiento)\n",
        "model.fit(X_train, y_train)\n",
        "\n",
        "# 5. Hacer predicciones sobre nuevos datos (X_test)\n",
        "y_pred = model.predict(X_test)\n",
        "\n",
        "# Opcional: Evaluar el rendimiento del modelo (ejemplo de métrica)\n",
        "from sklearn.metrics import mean_squared_error\n",
        "mse = mean_squared_error(y_test, y_pred)\n",
        "print(f'Mean Squared Error: {mse}')\n",
        "\n",
        "# Opcional: Mostrar coeficientes del modelo\n",
        "print('Coefficients:', model.coef_)\n",
        "print('Intercept:', model.intercept_)"
      ],
      "metadata": {
        "colab": {
          "base_uri": "https://localhost:8080/"
        },
        "id": "K75TITV4AxKw",
        "outputId": "d6600163-ff5b-45e1-e84a-031762ab839b"
      },
      "execution_count": 5,
      "outputs": [
        {
          "output_type": "stream",
          "name": "stdout",
          "text": [
            "Mean Squared Error: 98566326.79468001\n",
            "Coefficients: [190.64748201]\n",
            "Intercept: 16762.589928057627\n"
          ]
        }
      ]
    },
    {
      "cell_type": "markdown",
      "source": [
        "Es más importante que desesperarse para entender lo que ha sucedido. El mensaje de error anterior se debe a `sklearn.pipeline` en el paquete. Ocurre porque pasamos sólo una variable (*feature*) en la variable `X`. Vea esta parte del mensaje de error:\n",
        "\n",
        "\n",
        "> *...si tus datos tienen una sola característica o array.reshape(1, -1)*\n",
        "\n",
        "Una cosa que debes recordar es que `scikit-learn` espera dos cosas en esta etapa:\n",
        "\n",
        "* Que la variable `X` sea siempre un `np.array` con **dos dimensiones**.\n",
        "* Que la variable `y` sea siempre un `np.array` con **una dimensión**.\n",
        "\n",
        "Mira los `prints` de abajo para ver las dimensiones de cada una de nuestras variables y verás que no se ajustan a lo que espera el paquete."
      ],
      "metadata": {
        "id": "qXgeVlRNCC0s"
      }
    },
    {
      "cell_type": "code",
      "source": [
        "print(\"df:\\t\\t\",df.shape)\n",
        "\n",
        "print(\"X:\\t\\t\",X.shape)\n",
        "\n",
        "print(\"X (reshape):\\t\",X.values.reshape(-1,1).shape)\n",
        "\n",
        "print(\"y:\\t\\t\", y.shape)"
      ],
      "metadata": {
        "colab": {
          "base_uri": "https://localhost:8080/"
        },
        "id": "V3Mfx21yQ83Y",
        "outputId": "fcce1495-a136-4a70-ffad-631ba5ca4d75"
      },
      "execution_count": 6,
      "outputs": [
        {
          "output_type": "stream",
          "name": "stdout",
          "text": [
            "df:\t\t (5, 2)\n",
            "X:\t\t (5, 1)\n",
            "X (reshape):\t (5, 1)\n",
            "y:\t\t (5,)\n"
          ]
        }
      ]
    },
    {
      "cell_type": "markdown",
      "source": [
        "Esto es fácil de resolver. Cuando necesite cambiar la dimensión de una *matriz* para cumplir la condición anterior, utilice `.reshape(-1,1)`."
      ],
      "metadata": {
        "id": "sb5XN9miTNvM"
      }
    },
    {
      "cell_type": "code",
      "source": [
        "# 1. escolher e importar um modelo\n",
        "from sklearn.linear_model import LinearRegression\n",
        "\n",
        "# 2. Escolher os hyperparameters\n",
        "model = LinearRegression()\n",
        "\n",
        "# 3. Separar os dados entre feature matrix e target vector\n",
        "X = df['GrLivArea'].values.reshape(-1,1)\n",
        "y = df['SalePrice']\n",
        "\n",
        "# 3.1 Dividir o dataset entre treino e teste\n",
        "X_train, X_test, y_train, y_test = train_test_split(X, y)\n",
        "\n",
        "# 4. Fit do modelo (treinar)\n",
        "model.fit(X_train, y_train)"
      ],
      "metadata": {
        "id": "j8td78I3TPv3"
      },
      "execution_count": null,
      "outputs": []
    },
    {
      "cell_type": "markdown",
      "source": [
        "Si hablamos de Regresión Lineal, estamos hablando de construir una línea recta. Esta línea tiene coeficientes asociados a los ángulos de inclinación y de intercepción. En este caso concreto de Regresión Lineal Simple, sólo tenemos un coeficiente de regresión.\n",
        "\n",
        "Para obtener el **coeficiente de regresión** y el **intercepto**, basta con acceder a los atributos del modelo directamente desde la variable `ml_model`.\n",
        "\n"
      ],
      "metadata": {
        "id": "Weuc0EzvTcsU"
      }
    },
    {
      "cell_type": "code",
      "source": [
        "# imprimir los coeficientes\n",
        "print(\"Coeficiente:\\t\", model.coef_)\n",
        "print(\"Intercepto:\\t\", model.intercept_)"
      ],
      "metadata": {
        "colab": {
          "base_uri": "https://localhost:8080/"
        },
        "id": "qaybFDn5Tjfu",
        "outputId": "edfbc538-017b-47a6-a766-12d33c1cab87"
      },
      "execution_count": 7,
      "outputs": [
        {
          "output_type": "stream",
          "name": "stdout",
          "text": [
            "Coeficiente:\t [190.64748201]\n",
            "Intercepto:\t 16762.589928057627\n"
          ]
        }
      ]
    },
    {
      "cell_type": "markdown",
      "source": [
        "Como estamos trabajando con un problema de baja dimensión, es posible trazar nuestra línea recta, obtenida por el modelo *Machine Learning*, sobre los datos de nuestro *dataset*. Observa lo bien que representa nuestro conjunto de puntos."
      ],
      "metadata": {
        "id": "QGmwy5yQUZ3s"
      }
    },
    {
      "cell_type": "code",
      "source": [
        "# plotar recta y datos\n",
        "fig, ax = plt.subplots()\n",
        "ax.scatter(X, y, s=1, color='blue')\n",
        "ax.plot(X, (model.coef_ * X + model.intercept_), '--r', linewidth=1)"
      ],
      "metadata": {
        "colab": {
          "base_uri": "https://localhost:8080/",
          "height": 447
        },
        "id": "UVmxh0ctUf7k",
        "outputId": "2b0ec949-b2ba-4354-a8c6-c0f7bb8066e9"
      },
      "execution_count": 8,
      "outputs": [
        {
          "output_type": "execute_result",
          "data": {
            "text/plain": [
              "[<matplotlib.lines.Line2D at 0x7e2ff9a4e290>]"
            ]
          },
          "metadata": {},
          "execution_count": 8
        },
        {
          "output_type": "display_data",
          "data": {
            "text/plain": [
              "<Figure size 640x480 with 1 Axes>"
            ],
            "image/png": "[encoded data removed]"
          },
          "metadata": {}
        }
      ]
    }
  ]
}