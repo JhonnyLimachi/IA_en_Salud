{
  "nbformat": 4,
  "nbformat_minor": 0,
  "metadata": {
    "colab": {
      "provenance": [],
      "authorship_tag": "ABX9TyN+SvwKez9rWG4+HKcIZSAJ",
      "include_colab_link": true
    },
    "kernelspec": {
      "name": "python3",
      "display_name": "Python 3"
    },
    "language_info": {
      "name": "python"
    }
  },
  "cells": [
    {
      "cell_type": "markdown",
      "metadata": {
        "id": "view-in-github",
        "colab_type": "text"
      },
      "source": [
        "<a href=\"https://colab.research.google.com/github/JhonnyLimachi/IA_en_Salud/blob/main/9_Escalado_de_caracter%C3%ADsticas.ipynb\" target=\"_parent\"><img src=\"https://colab.research.google.com/assets/colab-badge.svg\" alt=\"Open In Colab\"/></a>"
      ]
    },
    {
      "cell_type": "markdown",
      "source": [
        "<img alt=\"Colaboratory logo\" width=\"15%\" src=\"https://raw.githubusercontent.com/carlosfab/escola-data-science/master/img/novo_logo_bg_claro.png\">\n",
        "\n",
        "#### **Data Science na Prática 4.0**\n",
        "*by [sigmoidal.ai](https://sigmoidal.ai)*\n",
        "\n",
        "---"
      ],
      "metadata": {
        "id": "cZgyHLz9MxXS"
      }
    },
    {
      "cell_type": "markdown",
      "source": [
        "# Escalado de características\n",
        "\n",
        "A estas alturas del curso, es probable que haya tenido varias nociones sobre cómo las variables a diferentes escalas pueden afectar a su modelo.\n",
        "\n",
        "Términos como estandarización, normalización, misma escala y magnitud son muy importantes para el científico de datos. Dependiendo del algoritmo que elijas, el resultado puede verse muy comprometido.\n",
        "\n",
        "<center><img src=\"https://raw.githubusercontent.com/carlosfab/dsnp2/master/img/magnitude.jpeg\" width=\"40%\"></center>\n",
        "\n",
        "La realidad es que sí, la inmensa mayoría de las veces, estarás tratando con variables de diferentes tipos y diferentes escalas. Profundizar en el tema de esta lección es importante. Sin embargo, no te limites sólo a este cuaderno o a lo mencionado en el vídeo. **¡Usa las referencias y los enlaces!\n",
        "<center><img src=\"https://images.unsplash.com/photo-1604247416063-e0e6aaf47b0b?ixid=MnwxMjA3fDB8MHxwaG90by1wYWdlfHx8fGVufDB8fHx8&ixlib=rb-1.2.1&auto=format&fit=crop&w=1051&q=80\" width=\"40%\"></center>\n",
        "\n",
        "**¿Cuándo utilizar técnicas de escalado de características?\n",
        "\n",
        "En pocas palabras, querrás usar feature scaling cuando trabajes con algoritmos basados en **descenso de gradiente** o algoritmos basados en **distancia**.\n",
        "\n",
        "Los algoritmos basados en el gradiente actualizan sus parámetros individualmente. En otras palabras, las diferentes escalas supondrán una gran diferencia.\n",
        "\n",
        "Del mismo modo, los algoritmos basados en la distancia utilizan la distancia entre puntos (datos) para establecer el grado de similitud. Las magnitudes extremas harán que el algoritmo favorezca determinadas características desde el primer momento en que entre en contacto con ellas.\n",
        "\n",
        "**¿Qué ocurre con los algoritmos basados en árboles?**\n",
        "\n",
        "Los algoritmos basados en árboles son insensibles a las diferentes escalas de las características. Esto se debe a que crean nodos de decisión basados únicamente en cada característica de forma aislada.\n",
        "\n",
        "Traducción realizada con la versión gratuita del traductor DeepL.com"
      ],
      "metadata": {
        "id": "kuDEiio5M-DX"
      }
    },
    {
      "cell_type": "code",
      "execution_count": null,
      "metadata": {
        "id": "gfZBi9EVLs3H"
      },
      "outputs": [],
      "source": []
    }
  ]
}