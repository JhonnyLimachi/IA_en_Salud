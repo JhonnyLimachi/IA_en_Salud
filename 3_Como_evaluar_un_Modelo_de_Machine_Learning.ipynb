{
  "nbformat": 4,
  "nbformat_minor": 0,
  "metadata": {
    "colab": {
      "provenance": [],
      "authorship_tag": "ABX9TyPSrKD3POOgJPImpsR0vTjW",
      "include_colab_link": true
    },
    "kernelspec": {
      "name": "python3",
      "display_name": "Python 3"
    },
    "language_info": {
      "name": "python"
    }
  },
  "cells": [
    {
      "cell_type": "markdown",
      "metadata": {
        "id": "view-in-github",
        "colab_type": "text"
      },
      "source": [
        "<a href=\"https://colab.research.google.com/github/JhonnyLimachi/IA_en_Salud/blob/main/3_Como_evaluar_un_Modelo_de_Machine_Learning.ipynb\" target=\"_parent\"><img src=\"https://colab.research.google.com/assets/colab-badge.svg\" alt=\"Open In Colab\"/></a>"
      ]
    },
    {
      "cell_type": "markdown",
      "source": [
        "<img alt=\"Colaboratory logo\" width=\"15%\" src=\"https://raw.githubusercontent.com/carlosfab/escola-data-science/master/img/novo_logo_bg_claro.png\">\n",
        "\n",
        "#### **Data Science na Prática 4.0**\n",
        "*by [sigmoidal.ai](https://sigmoidal.ai)*\n",
        "\n",
        "---"
      ],
      "metadata": {
        "id": "Rv2MVTmwwGJk"
      }
    },
    {
      "cell_type": "markdown",
      "source": [
        "# Como evaluar un modelo de *Machine Learning*\n",
        "\n",
        "Ahora que, has construido tu modelo de *Machine Learning*. Después de varias horas haciendo un análisis exploratorio y limpiando los datos, lo has entrenado con tu conjunto de datos y has obtenido los coeficientes \"ideales\". ¿Cuál es el próximo paso?\n",
        "\n",
        "\n",
        "> \"No controlas aquello que no puedes medir.\"\n",
        "\n",
        "\n",
        "<center><img width=\"50%\" src=\"https://images.unsplash.com/photo-1501516069922-a9982bd6f3bd?ixid=MnwxMjA3fDB8MHxwaG90by1wYWdlfHx8fGVufDB8fHx8&ixlib=rb-1.2.1&auto=format&fit=crop&w=1050&q=80\"></center>\n",
        "\n",
        "\n",
        "En realidad, medir resultados y monitorear indicadores no es algo exclusivo de los sistemas militares, sino que es una tarea obligatoria en cualquier actividad, y más aún en modelos de Inteligencia Artificial.\n",
        "\n",
        "Si no sabes cómo está desempeñándose tu algoritmo, puedes terminar comprometiendo los ingresos de una empresa o incluso su imagen.\n",
        "\n",
        "Existen innumerables metodologías, métricas e investigaciones sobre esta etapa de evaluación. Cada día, la frontera de la ciencia avanza un paso. Lo que ayer era el estado del arte, probablemente no lo será en un mes.\n",
        "\n",
        "Quiero presentar aquí una visión general de las métricas más conocidas y utilizadas por la comunidad.\n"
      ],
      "metadata": {
        "id": "6_-EQfepwTHJ"
      }
    },
    {
      "cell_type": "markdown",
      "source": [
        "## Evaluación de Modelos de Regresión\n",
        "\n",
        "Los Modelos de Regresión buscan prever un valor numérico continuo. Por ejemplo, cuál será el precio de venta de un inmueble o cuál será la facturación esperada para el próximo mes.\n",
        "\n",
        "Cuando estamos usando el *dataset* de test, fazemos a previsão $\\hat{y}_i$ para la $i\\text{-ésima}$ linha, una vez que tenemos el valor real $y_i$, podemos calcular este error de diferentes formas.\n",
        "\n",
        "<center><img width=\"50%\" src=\"https://raw.githubusercontent.com/carlosfab/dsnp2/master/img/regressao_loss.png\"></center>\n",
        "\n",
        "\n",
        "En la imagen anterior, considere que la línea representa su modelo de regresión, es decir, la propia predicción. Cada flecha (vector) representa la diferencia entre el valor real y la predicción.\n",
        "\n",
        "Em outras palavras, cada seta representa o quanto você errou naquela previsão específica. Se você medir todas as distâncias entre os pontos e a reta (que é o seu modelo), você vai ter o seu erro, ou ***loss***.\n",
        "\n",
        "En el ejemplo de esta figura, queda claro que el modelo del gráfico de la izquierda \"falla\" mucho más que el modelo del gráfico de la derecha. Es decir, el modelo de la derecha es mejor.\n",
        "\n",
        "De hecho, existen diversas métricas que pueden utilizarse para verificar el desempeño de su modelo. Vamos a echar un vistazo a las principales.\n",
        "\n",
        "### *Mean Absolut Error* - MAE\n",
        "\n",
        "Es el más simple de todos, donde se calcula la media de la magnitud del error para todos los puntos donde realizamos predicciones, sin considerar la dirección.\n",
        "\n",
        "$$MAE = \\frac{1}{m}\\sum_{i=1}^{n}|y_i - \\hat{y}_i|$$\n",
        "\n",
        "Es la más intuitiva de todas las métricas, ya que observamos la diferencia absoluta entre la predicción y el valor real.\n",
        "\n",
        "El problema con el MAE es que todos los errores individuales se tratan de la misma manera, lo cual puede ser un problema al manejar valores atípicos.\n",
        "\n",
        "### *Mean Squared Error* - MSE\n",
        "\n",
        "El MSE calcula a média de los errores elevados a la segunda potencia.\n",
        "\n",
        "$$MSE = \\frac{1}{m}\\sum_{i=1}^{m}(y_i - \\hat{y}_i)^2$$\n",
        "\n",
        "La ventaja es que los errores más grandes serán penalizados más que los menores, lo que implica que las diferencias menores tendrán menos impacto en la evaluación.\n",
        "\n",
        "Puede haber una dificultad en su interpretación, ya que la unidad de medida será alterada.\n",
        "\n",
        "### *Root Mean Squared Error* - RMSE\n",
        "\n",
        "Calcular la raíz cuadrada de la media de los cuadrados de los errores hace que el RMSE penalice los errores más grandes, siendo más sensible a los valores atípicos.\n",
        "\n",
        "$$RMSE = \\sqrt{\\frac{1}{m}\\sum_{i=1}^{m}(y_i - \\hat{y}_i)^2}$$\n",
        "\n",
        "Note que las diferencias se elevan al cuadrado antes de que se calcule su media.\n",
        "\n",
        "Esta métrica es muy deseada en situaciones donde se desea evitar grandes errores al máximo.\n",
        "\n",
        "### *R-Squared* - $R^2$\n",
        "\n",
        "Aunque el R-Squared no se trata propiamente de errores, es bastante popular para verificar la precisión de los modelos de regresión.\n",
        "\n",
        "$$R^2 = 1 - \\frac{\\sum_{j=1}^{m}(y_i - \\hat{y}_i)^2}{\\sum_{j=1}^{m}(y_i - \\bar{y}_i)^2}$$\n",
        "\n",
        "Puedes entender la métrica como \"qué tan bueno es tu modelo en comparación con los valores reales\", y lo hace calculando las varianzas en relación a la media y a la línea recta.\n"
      ],
      "metadata": {
        "id": "yNFEboNgw5xp"
      }
    },
    {
      "cell_type": "markdown",
      "source": [
        "## Evaluación de Modelos de Clasificación\n",
        "\n",
        "¿Cómo se evalúa un modelo de clasificación?\n",
        "\n",
        "Ya sea trabajando con clasificación binaria o con múltiples clases, las métricas relacionadas con los modelos de clasificación no pueden ser las mismas que usamos en modelos de regresión.\n",
        "\n",
        "\n",
        "### Precisión\n",
        "\n",
        "Definitivamente, es la métrica más intuitiva y fácil de entender. La precisión muestra directamente el porcentaje de aciertos de nuestro modelo.\n",
        "\n",
        "$$\n",
        "\\text{Acurácia} = \\frac{\\text{Número de previsões corretas}}{\\text{Número total de previsões}}\n",
        "$$\n",
        "\n",
        "A pesar de ser muy directa e intuitiva, la precisión no es una buena métrica cuando se trata, por ejemplo, de datos desbalanceados.\n",
        "\n",
        "En un *dataset* de fraudes bancarios, el número de eventos clasificados como fraude puede ser inferior al 1%. Es decir, la precisión del modelo será superior para los casos de no-fraude y no reflejará bien la naturaleza de nuestro problema.\n",
        "\n",
        "En este ejemplo de fraude bancario, el banco preferirá una precisión máxima en la detección de casos confirmados de fraudes, aunque esto implique disminuir la precisión global y tener un mayor número de falsos positivos.\n",
        "\n",
        "Veamos un ejemplo del curso Machine Learning Crash Course de Google. En él, se puede ver cómo observar simplemente la precisión puede llevar a conclusiones erróneas. A continuación, estamos viendo los resultados de un modelo para la detección de tumores malignos.\n",
        "\n",
        "<center><img alt=\"Colaboratory logo\" width=\"50%\" src=\"https://raw.githubusercontent.com/carlosfab/dsnp2/master/img/acuracia.png\"></center>\n",
        "\n",
        "Una precisión del 91% podría dar lugar a una interpretación errónea, ya que el modelo sólo fue capaz de detectar correctamente 1 de los 9 tumores malignos. En casos como este, con datos desequilibrados, lo ideal es separar los errores en distintos tipos, y no limitarse a utilizar una métrica de precisión global.\n",
        "\n",
        "\n",
        "**Tipos de errores**\n",
        "\n",
        "**Verdadero positivo (*true positive* — TP):** Por ejemplo, cuando el paciente tiene un tumor maligno y el modelo lo clasifica como teniendo un tumor maligno.\n",
        "\n",
        "**Falso positivo (false positive — FP):** Por ejemplo, cuando el paciente no tiene un tumor maligno y el modelo lo clasifica como teniendo un tumor maligno.\n",
        "\n",
        "**Falso negativo (false negative — FN):** Por ejemplo, cuando el paciente tiene un tumor maligno y el modelo lo clasifica como no teniendo un tumor maligno.\n",
        "\n",
        "**Verdadero negativo (true negative — TN):** Por ejemplo, cuando el paciente no tiene un tumor maligno y el modelo lo clasifica como no teniendo un tumor maligno.\n",
        "\n",
        "Con estos conceptos, vamos a echar un vistazo a dos otras métricas.\n",
        "\n",
        "### Precision\n",
        "\n",
        "La precisión se refiere a la cantidad (proporcional) de identificaciones positivas hechas correctamente, y se obtiene mediante la siguiente ecuación:\n",
        "\n",
        "$$\n",
        "\\frac{TP}{TP+FP}\n",
        "$$\n",
        "\n",
        "Ella responde **\"¿cuál es la proporción de identificaciones positivas que estaban correctas?\"** Este valor será máximo (1.0) cuando no se produzcan falsos negativos.\n",
        "\n",
        "En el ejemplo del tumor maligno, la precisión sería del 50%, lo que significa que cuando el modelo predice un tumor maligno, está en lo correcto la mitad de las veces.\n",
        "\n",
        "### *Recall*\n",
        "\n",
        "Muestra la proporción de positivos encontrados correctamente. Matemáticamente, se puede calcular el *recall* de la siguiente manera:\n",
        "\n",
        "$$\n",
        "\\frac{TP}{TP+FN}\n",
        "$$\n",
        "\n",
        "En el caso del tumor maligno, el recall tendría un valor igual al 11%, lo que significa que el modelo es capaz de predecir correctamente solo el 11% de todos los tumores malignos."
      ],
      "metadata": {
        "id": "hCRMK00_dS3q"
      }
    },
    {
      "cell_type": "markdown",
      "source": [
        "### *F1-score*\n",
        "\n",
        "É a média harmonica entre precisão e *recall*. O melhor valor possível para 0 *F1-score* é 1 e o pior é 0. É calculado por\n",
        "\n",
        "$$\n",
        "2* \\frac{precision*recall}{precision+recall}\n",
        "$$"
      ],
      "metadata": {
        "id": "rM4nsgKsZ2dG"
      }
    },
    {
      "cell_type": "markdown",
      "source": [
        "### Matriz de Confusão\n",
        "\n",
        "Uma das principais maneiras de você verificar o desempenho do seu algoritmo é por meio da Matriz de Confusão. Para cada classe, ela informa quais os valores reais (*actual*) e os valores previstos pelo modelo (*predicted*).\n",
        "\n",
        "Dessa maneira, é possível rapidamente identificar:\n",
        "\n",
        "<p align=center><img src=\"https://plat.ai/wp-content/uploads/Table1-2.png.\" width=\"80%\"></p>\n",
        "\n",
        "\n",
        "Desse sumário da matriz de confusão, conseguimos extrair várias informações importantes."
      ],
      "metadata": {
        "id": "eAGZCWtBZ6yN"
      }
    },
    {
      "cell_type": "code",
      "execution_count": 3,
      "metadata": {
        "id": "s3ENgEM4v9CB",
        "colab": {
          "base_uri": "https://localhost:8080/",
          "height": 449
        },
        "outputId": "d4fa98f9-0a66-43a8-ad5c-f886fe318eb7"
      },
      "outputs": [
        {
          "output_type": "display_data",
          "data": {
            "text/plain": [
              "<Figure size 640x480 with 1 Axes>"
            ],
            "image/png": "[encoded data removed]"
          },
          "metadata": {}
        }
      ],
      "source": [
        "# problema binário de clasificación\n",
        "from sklearn.metrics import confusion_matrix\n",
        "from sklearn.metrics import classification_report\n",
        "import matplotlib.pyplot as plt\n",
        "import seaborn as sns\n",
        "\n",
        "y_true = [0, 1, 0, 1, 0, 0, 1, 1, 1, 0, 1, 0, 1, 1, 0]\n",
        "y_pred = [0, 1, 0, 0, 0, 1, 1, 1, 0, 0, 1, 0, 1, 0, 0]\n",
        "\n",
        "mat = confusion_matrix(y_true, y_pred)\n",
        "sns.heatmap(mat, square=True, annot=True, cbar=False)\n",
        "plt.xlabel('Previsión del modelo')\n",
        "plt.ylabel('Valor verdadero');"
      ]
    }
  ]
}