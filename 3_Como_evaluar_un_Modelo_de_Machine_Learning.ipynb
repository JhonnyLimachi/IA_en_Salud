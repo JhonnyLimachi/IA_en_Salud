{
  "nbformat": 4,
  "nbformat_minor": 0,
  "metadata": {
    "colab": {
      "provenance": [],
      "authorship_tag": "ABX9TyMfOnwLDr54N4a6YSnhlFE4",
      "include_colab_link": true
    },
    "kernelspec": {
      "name": "python3",
      "display_name": "Python 3"
    },
    "language_info": {
      "name": "python"
    }
  },
  "cells": [
    {
      "cell_type": "markdown",
      "metadata": {
        "id": "view-in-github",
        "colab_type": "text"
      },
      "source": [
        "<a href=\"https://colab.research.google.com/github/JhonnyLimachi/IA_en_Salud/blob/main/3_Como_evaluar_un_Modelo_de_Machine_Learning.ipynb\" target=\"_parent\"><img src=\"https://colab.research.google.com/assets/colab-badge.svg\" alt=\"Open In Colab\"/></a>"
      ]
    },
    {
      "cell_type": "markdown",
      "source": [
        "<img alt=\"Colaboratory logo\" width=\"15%\" src=\"https://raw.githubusercontent.com/carlosfab/escola-data-science/master/img/novo_logo_bg_claro.png\">\n",
        "\n",
        "#### **Data Science na Prática 4.0**\n",
        "*by [sigmoidal.ai](https://sigmoidal.ai)*\n",
        "\n",
        "---"
      ],
      "metadata": {
        "id": "Rv2MVTmwwGJk"
      }
    },
    {
      "cell_type": "markdown",
      "source": [
        "# Como avaliar um modelo de *Machine Learning*\n",
        "\n",
        "Beleza, você construiu seu modelo de *Machine Learning*, após várias horas fazendo uma análise exploratória e limpando os dados, treinou ele em cima do seu conjunto de dados e obteve os coeficientes \"ideais\". Qual o próximo passo?\n",
        "\n",
        "> \"Você não controla aquilo que não consegue mensurar\"\n",
        "\n",
        "Trabalhei durante 1 ano no Centro de Operações Aeroespaciais (COMAE), analisando dados da cadeia de Comando e Controle (C2) da Força Aérea, e essa foi uma das frases que eu mais escutei por lá.\n",
        "\n",
        "<center><img width=\"50%\" src=\"https://images.unsplash.com/photo-1501516069922-a9982bd6f3bd?ixid=MnwxMjA3fDB8MHxwaG90by1wYWdlfHx8fGVufDB8fHx8&ixlib=rb-1.2.1&auto=format&fit=crop&w=1050&q=80\"></center>\n",
        "\n",
        "Na verdade, medir resultados e monitorar indicadores não é algo exclusivo de sistemas militares, mas é uma tarefa obrigatória em qualquer atividade, ainda mais em modelos de Inteligência Artificial.\n",
        "\n",
        "Se você não sabe como o seu algoritmo está performando, pode acabar compromentendo o faturamento de uma empresa ou até mesmo a imagem dela.\n",
        "\n",
        "Existem inúmeras metodologias, métricas e pesquisas sobre esta etapa de avaliação. A cada dia, a fronteira da ciência avança um passo. O que era o *estado da arte* ontem, provavelmente não mais será em um mês.\n",
        "\n",
        "Quero trazer aqui uma visão geral daquelas métricas mais conhecidas e usadas pela comunidade.\n"
      ],
      "metadata": {
        "id": "6_-EQfepwTHJ"
      }
    },
    {
      "cell_type": "code",
      "execution_count": null,
      "metadata": {
        "id": "s3ENgEM4v9CB"
      },
      "outputs": [],
      "source": []
    }
  ]
}