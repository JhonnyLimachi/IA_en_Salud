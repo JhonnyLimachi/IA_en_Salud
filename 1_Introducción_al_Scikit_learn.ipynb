{
  "nbformat": 4,
  "nbformat_minor": 0,
  "metadata": {
    "colab": {
      "provenance": [],
      "authorship_tag": "ABX9TyPDFkCZxf7u8T0uWT436rLS",
      "include_colab_link": true
    },
    "kernelspec": {
      "name": "python3",
      "display_name": "Python 3"
    },
    "language_info": {
      "name": "python"
    }
  },
  "cells": [
    {
      "cell_type": "markdown",
      "metadata": {
        "id": "view-in-github",
        "colab_type": "text"
      },
      "source": [
        "<a href=\"https://colab.research.google.com/github/JhonnyLimachi/IA_en_Salud/blob/main/1_Introducci%C3%B3n_al_Scikit_learn.ipynb\" target=\"_parent\"><img src=\"https://colab.research.google.com/assets/colab-badge.svg\" alt=\"Open In Colab\"/></a>"
      ]
    },
    {
      "cell_type": "markdown",
      "source": [
        "<img alt=\"Colaboratory logo\" width=\"15%\" src=\"https://raw.githubusercontent.com/carlosfab/escola-data-science/master/img/novo_logo_bg_claro.png\">\n",
        "\n",
        "#### **DIPLOMADO EN INTELIGENCIA ARTIFICIAL PARA LA TRANSFORMACIÓN EN CIENCIAS DE LA SALUD V1**\n",
        "###**MÓDULO IV: ANÁLISIS DE DATOS BIOMÉDICOS Y GENÓMICA**\n",
        "*por [Jhonny Limachi Choque](https://sigmoidal.ai)*\n",
        "\n",
        "---"
      ],
      "metadata": {
        "id": "rCateXQbFXnH"
      }
    },
    {
      "cell_type": "markdown",
      "source": [
        "# Introducción al Scikit-Learn\n",
        "\n",
        "El proyecto `Scikit-learn` visa providenciar una biblioteca de machine learning para Python.\n",
        "\n",
        "<center><img src=\"https://upload.wikimedia.org/wikipedia/commons/thumb/0/05/Scikit_learn_logo_small.svg/1200px-Scikit_learn_logo_small.svg.png\" width=400px ></center>\n",
        "\n",
        "Pensada para encajar con los paquetes científicos que orbitan alrededor de las bibliotecas `Numpy` y `Scipy`, la visión de Scikit-learn es ser una herramienta eficiente y estable, al mismo tiempo que accesible para los no expertos en aprendizaje automático.\n",
        "\n",
        "De acuerdo con su [documentación oficial](https://scikit-learn.org/stable/getting_started.html), el `Scikit-learn` es una biblioteca *open source* que soporta aprendizaje supervisado y no supervisado, además de proveer varias herramientas para *model fitting*, preprocesamiento de datos, selección de modelos y evaluación, entre otras muchas utilidades.\n",
        "\n",
        "Para profundizar en la arquitectura de la biblioteca, recomiendo leer una de las mejores referencias que encontré, el artículo [API design for machine learning software: experiences from the scikit-learn project](https://arxiv.org/abs/1309.0238)."
      ],
      "metadata": {
        "id": "01cR47vmOR3V"
      }
    },
    {
      "cell_type": "markdown",
      "source": [
        "## Representación de datos en `Scikit-learn`\n",
        "\n",
        "La opción del equipo de desarrollo de la biblioteca fue elegir la representación de datos que más se asemeja a la representación matricial, los *datasets* se codifican de dos maneras posibles:\n",
        "\n",
        "1. Arrays multidimensionales de `Numpy`, para datos densos; y\n",
        "2. Matrices dispersas de `Scipy`, para dados esparços.\n",
        "\n",
        "De acordo com o paper referenciado anteriormente, a decisão por usar esse tipo de representação, mesmo havendo outras mais sofisticadas, foi devido ao fato de isso permitir contar com toda a eficiência das operações vetorizadas do `Numpy` e `Scipy` - além de deixar o código enxuto e legível.\n",
        "\n",
        "\n",
        "\n",
        "Arrays multidimensionales de Numpy para datos densos; y\n",
        "Matrices dispersas de Scipy para datos dispersos.\n",
        "Según el artículo referenciado anteriormente, la decisión de usar este tipo de representación, incluso habiendo otras más sofisticadas, se debió al hecho de que esto permite contar con toda la eficiencia de las operaciones vectorizadas de Numpy y Scipy, además de dejar el código claro y legible."
      ],
      "metadata": {
        "id": "2znuj8g6-P_z"
      }
    },
    {
      "cell_type": "code",
      "execution_count": null,
      "metadata": {
        "id": "DyjnwcahB_Ta"
      },
      "outputs": [],
      "source": []
    }
  ]
}