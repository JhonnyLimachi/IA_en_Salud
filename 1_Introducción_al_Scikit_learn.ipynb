{
  "nbformat": 4,
  "nbformat_minor": 0,
  "metadata": {
    "colab": {
      "provenance": [],
      "authorship_tag": "ABX9TyMGnj7XEXP9o+TJ0u4cjjHs",
      "include_colab_link": true
    },
    "kernelspec": {
      "name": "python3",
      "display_name": "Python 3"
    },
    "language_info": {
      "name": "python"
    }
  },
  "cells": [
    {
      "cell_type": "markdown",
      "metadata": {
        "id": "view-in-github",
        "colab_type": "text"
      },
      "source": [
        "<a href=\"https://colab.research.google.com/github/JhonnyLimachi/IA_en_Salud/blob/main/1_Introducci%C3%B3n_al_Scikit_learn.ipynb\" target=\"_parent\"><img src=\"https://colab.research.google.com/assets/colab-badge.svg\" alt=\"Open In Colab\"/></a>"
      ]
    },
    {
      "cell_type": "markdown",
      "source": [
        "<img alt=\"Colaboratory logo\" width=\"15%\" src=\"https://raw.githubusercontent.com/carlosfab/escola-data-science/master/img/novo_logo_bg_claro.png\">\n",
        "\n",
        "#### **DIPLOMADO EN INTELIGENCIA ARTIFICIAL PARA LA TRANSFORMACIÓN EN CIENCIAS DE LA SALUD V1**\n",
        "###**MÓDULO IV: ANÁLISIS DE DATOS BIOMÉDICOS Y GENÓMICA**\n",
        "*por [Jhonny Limachi Choque](https://sigmoidal.ai)*\n",
        "\n",
        "---"
      ],
      "metadata": {
        "id": "rCateXQbFXnH"
      }
    },
    {
      "cell_type": "markdown",
      "source": [
        "# Introducción al Scikit-Learn\n",
        "\n",
        "El proyecto `Scikit-learn` visa providenciar una biblioteca de machine learning para Python.\n",
        "\n",
        "<center><img src=\"https://upload.wikimedia.org/wikipedia/commons/thumb/0/05/Scikit_learn_logo_small.svg/1200px-Scikit_learn_logo_small.svg.png\" width=400px ></center>\n",
        "\n",
        "Pensada para encajar con los paquetes científicos que orbitan alrededor de las bibliotecas `Numpy` y `Scipy`, la visión de Scikit-learn es ser una herramienta eficiente y estable, al mismo tiempo que accesible para los no expertos en aprendizaje automático.\n",
        "\n",
        "De acuerdo con su [documentación oficial](https://scikit-learn.org/stable/getting_started.html), el `Scikit-learn` es una biblioteca *open source* que soporta aprendizaje supervisado y no supervisado, además de proveer varias herramientas para *model fitting*, preprocesamiento de datos, selección de modelos y evaluación, entre otras muchas utilidades.\n",
        "\n",
        "Para profundizar en la arquitectura de la biblioteca, recomiendo leer una de las mejores referencias que encontré, el artículo [API design for machine learning software: experiences from the scikit-learn project](https://arxiv.org/abs/1309.0238)."
      ],
      "metadata": {
        "id": "01cR47vmOR3V"
      }
    },
    {
      "cell_type": "code",
      "execution_count": null,
      "metadata": {
        "id": "DyjnwcahB_Ta"
      },
      "outputs": [],
      "source": []
    }
  ]
}