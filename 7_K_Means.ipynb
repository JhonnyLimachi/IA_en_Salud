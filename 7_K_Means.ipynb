{
  "nbformat": 4,
  "nbformat_minor": 0,
  "metadata": {
    "colab": {
      "provenance": [],
      "authorship_tag": "ABX9TyNCN9t+kJCtay/SG77HODUc",
      "include_colab_link": true
    },
    "kernelspec": {
      "name": "python3",
      "display_name": "Python 3"
    },
    "language_info": {
      "name": "python"
    }
  },
  "cells": [
    {
      "cell_type": "markdown",
      "metadata": {
        "id": "view-in-github",
        "colab_type": "text"
      },
      "source": [
        "<a href=\"https://colab.research.google.com/github/JhonnyLimachi/IA_en_Salud/blob/main/7_K_Means.ipynb\" target=\"_parent\"><img src=\"https://colab.research.google.com/assets/colab-badge.svg\" alt=\"Open In Colab\"/></a>"
      ]
    },
    {
      "cell_type": "markdown",
      "source": [
        "<img alt=\"Colaboratory logo\" width=\"15%\" src=\"https://raw.githubusercontent.com/carlosfab/escola-data-science/master/img/novo_logo_bg_claro.png\">\n",
        "\n",
        "#### **Data Science na Prática 4.0**\n",
        "*by [sigmoidal.ai](https://sigmoidal.ai)*\n",
        "\n",
        "---"
      ],
      "metadata": {
        "id": "9xqI3D8YfJ1e"
      }
    },
    {
      "cell_type": "markdown",
      "source": [
        "# K-Means\n",
        "\n",
        "K-Means es uno de los principales y más populares algoritmos de aprendizaje no supervisado en Machine Learning.\n",
        "\n",
        "Todo lo que has visto hasta ahora ha implicado una columna con las variables objetivo, una guía para que el algoritmo aprenda a utilizar las *características* y clasificar o regresionar una muestra.\n",
        "\n",
        "<center><img src=\"https://raw.githubusercontent.com/carlosfab/dsnp2/master/img/K-means_convergence.gif\" width=\"60%\"></center>\n",
        "\n",
        "Sin embargo, k-means es un modelo de *clustering* que intenta separar tus datos en *k* *clusters*, basándose sólo en los patrones de los datos.\n",
        "\n",
        "Si la situación te parece extraña, intenta imaginar una base de datos de tus clientes de comercio electrónico. Puede intentar segmentar la base por variables independientes e identificar perfiles de compra similares."
      ],
      "metadata": {
        "id": "RZgPQiSyfsFv"
      }
    },
    {
      "cell_type": "markdown",
      "source": [
        "## k-means en `scikit-learn`\n",
        "\n",
        "El conjunto de datos utilizado en este cuaderno puede encontrarse [en este sitio](https://datahack.analyticsvidhya.com/contest/practice-problem-loan-prediction-iii/?utm_source=blog&utm_medium=comprehensive-guide-k-means-clustering) o descargarse directamente de [mi repositorio de Github](https://raw.githubusercontent.com/carlosfab/dsnp2/master/datasets/clustering.csv)."
      ],
      "metadata": {
        "id": "SHEkF_HJgUXV"
      }
    },
    {
      "cell_type": "code",
      "execution_count": null,
      "metadata": {
        "id": "kA7hTcwJfEa9"
      },
      "outputs": [],
      "source": []
    }
  ]
}