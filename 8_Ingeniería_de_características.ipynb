{
  "nbformat": 4,
  "nbformat_minor": 0,
  "metadata": {
    "colab": {
      "provenance": [],
      "authorship_tag": "ABX9TyOQEdGIhiNqsvuTHKhq4Sns",
      "include_colab_link": true
    },
    "kernelspec": {
      "name": "python3",
      "display_name": "Python 3"
    },
    "language_info": {
      "name": "python"
    }
  },
  "cells": [
    {
      "cell_type": "markdown",
      "metadata": {
        "id": "view-in-github",
        "colab_type": "text"
      },
      "source": [
        "<a href=\"https://colab.research.google.com/github/JhonnyLimachi/IA_en_Salud/blob/main/8_Ingenier%C3%ADa_de_caracter%C3%ADsticas.ipynb\" target=\"_parent\"><img src=\"https://colab.research.google.com/assets/colab-badge.svg\" alt=\"Open In Colab\"/></a>"
      ]
    },
    {
      "cell_type": "markdown",
      "source": [
        "<img alt=\"Colaboratory logo\" width=\"15%\" src=\"https://raw.githubusercontent.com/carlosfab/escola-data-science/master/img/novo_logo_bg_claro.png\">\n",
        "\n",
        "#### **Data Science na Prática 4.0**\n",
        "*by [sigmoidal.ai](https://sigmoidal.ai)*\n",
        "\n",
        "---"
      ],
      "metadata": {
        "id": "1uueLXQ-lqZl"
      }
    },
    {
      "cell_type": "markdown",
      "source": [
        "# Ingeniería de características\n",
        "\n",
        "***La Ingeniería de Características*** consiste en utilizar datos, dentro del dominio del conocimiento, y crear nuevas *características* para su conjunto de datos. Cuando entiendes este concepto y aplicas las técnicas de ingeniería correctamente, mejoras aún más la capacidad predictiva de tu modelo de aprendizaje automático.\n",
        "\n",
        "\n",
        "<center><img src=\"https://images.unsplash.com/photo-1504328345606-18bbc8c9d7d1?ixid=MnwxMjA3fDB8MHxwaG90by1wYWdlfHx8fGVufDB8fHx8&ixlib=rb-1.2.1&auto=format&fit=crop&w=1050&q=80\"width=\"70%\"></center>\n",
        "\n",
        "\n",
        "> Los algoritmos que utilizamos son muy estándar para Kagglers. [...] Dedicamos la mayor parte de nuestros esfuerzos a la ingeniería de características (Xavier Conort)*.\n",
        "\n",
        "\n",
        "La verdad es que la ingeniería de características requiere conocer tu problema. Por eso necesitas investigar qué variables son importantes para el ámbito que has identificado.\n",
        "\n",
        "Veamos algunos ejemplos de cómo crear nuevas funcionalidades."
      ],
      "metadata": {
        "id": "flK_upsRl82B"
      }
    },
    {
      "cell_type": "code",
      "execution_count": null,
      "metadata": {
        "id": "U2QSUQs1lo9-"
      },
      "outputs": [],
      "source": []
    }
  ]
}